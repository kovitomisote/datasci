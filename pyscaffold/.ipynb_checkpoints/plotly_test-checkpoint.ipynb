{
 "cells": [
  {
   "cell_type": "code",
   "execution_count": 58,
   "metadata": {
    "ExecuteTime": {
     "end_time": "2021-04-07T15:59:55.414343Z",
     "start_time": "2021-04-07T15:59:55.409485Z"
    }
   },
   "outputs": [],
   "source": [
    "import pandas as pd\n",
    "import plotly.express as px\n",
    "import plotly.graph_objects as go"
   ]
  },
  {
   "cell_type": "code",
   "execution_count": 46,
   "metadata": {
    "ExecuteTime": {
     "end_time": "2021-04-07T15:57:36.397320Z",
     "start_time": "2021-04-07T15:57:36.326333Z"
    }
   },
   "outputs": [],
   "source": [
    "data = pd.read_csv(\"csv\")"
   ]
  },
  {
   "cell_type": "code",
   "execution_count": 47,
   "metadata": {
    "ExecuteTime": {
     "end_time": "2021-04-07T15:57:37.133348Z",
     "start_time": "2021-04-07T15:57:37.110798Z"
    }
   },
   "outputs": [
    {
     "data": {
      "text/html": [
       "<div>\n",
       "<style scoped>\n",
       "    .dataframe tbody tr th:only-of-type {\n",
       "        vertical-align: middle;\n",
       "    }\n",
       "\n",
       "    .dataframe tbody tr th {\n",
       "        vertical-align: top;\n",
       "    }\n",
       "\n",
       "    .dataframe thead th {\n",
       "        text-align: right;\n",
       "    }\n",
       "</style>\n",
       "<table border=\"1\" class=\"dataframe\">\n",
       "  <thead>\n",
       "    <tr style=\"text-align: right;\">\n",
       "      <th></th>\n",
       "      <th>country</th>\n",
       "      <th>country_code</th>\n",
       "      <th>continent</th>\n",
       "      <th>population</th>\n",
       "      <th>indicator</th>\n",
       "      <th>weekly_count</th>\n",
       "      <th>year_week</th>\n",
       "      <th>rate_14_day</th>\n",
       "      <th>cumulative_count</th>\n",
       "      <th>source</th>\n",
       "    </tr>\n",
       "  </thead>\n",
       "  <tbody>\n",
       "    <tr>\n",
       "      <th>0</th>\n",
       "      <td>Afghanistan</td>\n",
       "      <td>AFG</td>\n",
       "      <td>Asia</td>\n",
       "      <td>38928341</td>\n",
       "      <td>cases</td>\n",
       "      <td>0</td>\n",
       "      <td>2020-01</td>\n",
       "      <td>NaN</td>\n",
       "      <td>0</td>\n",
       "      <td>Epidemic intelligence, national weekly data</td>\n",
       "    </tr>\n",
       "    <tr>\n",
       "      <th>1</th>\n",
       "      <td>Afghanistan</td>\n",
       "      <td>AFG</td>\n",
       "      <td>Asia</td>\n",
       "      <td>38928341</td>\n",
       "      <td>cases</td>\n",
       "      <td>0</td>\n",
       "      <td>2020-02</td>\n",
       "      <td>0.0</td>\n",
       "      <td>0</td>\n",
       "      <td>Epidemic intelligence, national weekly data</td>\n",
       "    </tr>\n",
       "    <tr>\n",
       "      <th>2</th>\n",
       "      <td>Afghanistan</td>\n",
       "      <td>AFG</td>\n",
       "      <td>Asia</td>\n",
       "      <td>38928341</td>\n",
       "      <td>cases</td>\n",
       "      <td>0</td>\n",
       "      <td>2020-03</td>\n",
       "      <td>0.0</td>\n",
       "      <td>0</td>\n",
       "      <td>Epidemic intelligence, national weekly data</td>\n",
       "    </tr>\n",
       "    <tr>\n",
       "      <th>3</th>\n",
       "      <td>Afghanistan</td>\n",
       "      <td>AFG</td>\n",
       "      <td>Asia</td>\n",
       "      <td>38928341</td>\n",
       "      <td>cases</td>\n",
       "      <td>0</td>\n",
       "      <td>2020-04</td>\n",
       "      <td>0.0</td>\n",
       "      <td>0</td>\n",
       "      <td>Epidemic intelligence, national weekly data</td>\n",
       "    </tr>\n",
       "    <tr>\n",
       "      <th>4</th>\n",
       "      <td>Afghanistan</td>\n",
       "      <td>AFG</td>\n",
       "      <td>Asia</td>\n",
       "      <td>38928341</td>\n",
       "      <td>cases</td>\n",
       "      <td>0</td>\n",
       "      <td>2020-05</td>\n",
       "      <td>0.0</td>\n",
       "      <td>0</td>\n",
       "      <td>Epidemic intelligence, national weekly data</td>\n",
       "    </tr>\n",
       "  </tbody>\n",
       "</table>\n",
       "</div>"
      ],
      "text/plain": [
       "       country country_code continent  population indicator  weekly_count  \\\n",
       "0  Afghanistan          AFG      Asia    38928341     cases             0   \n",
       "1  Afghanistan          AFG      Asia    38928341     cases             0   \n",
       "2  Afghanistan          AFG      Asia    38928341     cases             0   \n",
       "3  Afghanistan          AFG      Asia    38928341     cases             0   \n",
       "4  Afghanistan          AFG      Asia    38928341     cases             0   \n",
       "\n",
       "  year_week  rate_14_day  cumulative_count  \\\n",
       "0   2020-01          NaN                 0   \n",
       "1   2020-02          0.0                 0   \n",
       "2   2020-03          0.0                 0   \n",
       "3   2020-04          0.0                 0   \n",
       "4   2020-05          0.0                 0   \n",
       "\n",
       "                                        source  \n",
       "0  Epidemic intelligence, national weekly data  \n",
       "1  Epidemic intelligence, national weekly data  \n",
       "2  Epidemic intelligence, national weekly data  \n",
       "3  Epidemic intelligence, national weekly data  \n",
       "4  Epidemic intelligence, national weekly data  "
      ]
     },
     "execution_count": 47,
     "metadata": {},
     "output_type": "execute_result"
    }
   ],
   "source": [
    "data.head()"
   ]
  },
  {
   "cell_type": "code",
   "execution_count": 48,
   "metadata": {
    "ExecuteTime": {
     "end_time": "2021-04-07T15:57:38.261345Z",
     "start_time": "2021-04-07T15:57:38.253988Z"
    }
   },
   "outputs": [],
   "source": [
    "def convert(x):\n",
    "    year, week = x.split(\"-\")\n",
    "    year = (int(year) - 2020) * 54\n",
    "    return year + int(week)"
   ]
  },
  {
   "cell_type": "code",
   "execution_count": 49,
   "metadata": {
    "ExecuteTime": {
     "end_time": "2021-04-07T15:57:39.224745Z",
     "start_time": "2021-04-07T15:57:39.174427Z"
    }
   },
   "outputs": [],
   "source": [
    "data['week'] = data.year_week.apply(lambda x: convert(x))"
   ]
  },
  {
   "cell_type": "code",
   "execution_count": 50,
   "metadata": {
    "ExecuteTime": {
     "end_time": "2021-04-07T15:57:40.097749Z",
     "start_time": "2021-04-07T15:57:40.087473Z"
    }
   },
   "outputs": [],
   "source": [
    "hun = data[data.country == 'Hungary']"
   ]
  },
  {
   "cell_type": "code",
   "execution_count": 51,
   "metadata": {
    "ExecuteTime": {
     "end_time": "2021-04-07T15:57:40.942734Z",
     "start_time": "2021-04-07T15:57:40.918131Z"
    }
   },
   "outputs": [
    {
     "data": {
      "text/html": [
       "<div>\n",
       "<style scoped>\n",
       "    .dataframe tbody tr th:only-of-type {\n",
       "        vertical-align: middle;\n",
       "    }\n",
       "\n",
       "    .dataframe tbody tr th {\n",
       "        vertical-align: top;\n",
       "    }\n",
       "\n",
       "    .dataframe thead th {\n",
       "        text-align: right;\n",
       "    }\n",
       "</style>\n",
       "<table border=\"1\" class=\"dataframe\">\n",
       "  <thead>\n",
       "    <tr style=\"text-align: right;\">\n",
       "      <th></th>\n",
       "      <th>country</th>\n",
       "      <th>country_code</th>\n",
       "      <th>continent</th>\n",
       "      <th>population</th>\n",
       "      <th>indicator</th>\n",
       "      <th>weekly_count</th>\n",
       "      <th>year_week</th>\n",
       "      <th>rate_14_day</th>\n",
       "      <th>cumulative_count</th>\n",
       "      <th>source</th>\n",
       "      <th>week</th>\n",
       "    </tr>\n",
       "  </thead>\n",
       "  <tbody>\n",
       "    <tr>\n",
       "      <th>10626</th>\n",
       "      <td>Hungary</td>\n",
       "      <td>HUN</td>\n",
       "      <td>Europe</td>\n",
       "      <td>9769526</td>\n",
       "      <td>cases</td>\n",
       "      <td>8</td>\n",
       "      <td>2020-10</td>\n",
       "      <td>NaN</td>\n",
       "      <td>8</td>\n",
       "      <td>Epidemic intelligence, national weekly data</td>\n",
       "      <td>10</td>\n",
       "    </tr>\n",
       "    <tr>\n",
       "      <th>10627</th>\n",
       "      <td>Hungary</td>\n",
       "      <td>HUN</td>\n",
       "      <td>Europe</td>\n",
       "      <td>9769526</td>\n",
       "      <td>cases</td>\n",
       "      <td>31</td>\n",
       "      <td>2020-11</td>\n",
       "      <td>0.399201</td>\n",
       "      <td>39</td>\n",
       "      <td>Epidemic intelligence, national weekly data</td>\n",
       "      <td>11</td>\n",
       "    </tr>\n",
       "    <tr>\n",
       "      <th>10628</th>\n",
       "      <td>Hungary</td>\n",
       "      <td>HUN</td>\n",
       "      <td>Europe</td>\n",
       "      <td>9769526</td>\n",
       "      <td>cases</td>\n",
       "      <td>128</td>\n",
       "      <td>2020-12</td>\n",
       "      <td>1.627510</td>\n",
       "      <td>167</td>\n",
       "      <td>Epidemic intelligence, national weekly data</td>\n",
       "      <td>12</td>\n",
       "    </tr>\n",
       "    <tr>\n",
       "      <th>10629</th>\n",
       "      <td>Hungary</td>\n",
       "      <td>HUN</td>\n",
       "      <td>Europe</td>\n",
       "      <td>9769526</td>\n",
       "      <td>cases</td>\n",
       "      <td>280</td>\n",
       "      <td>2020-13</td>\n",
       "      <td>4.176252</td>\n",
       "      <td>447</td>\n",
       "      <td>Epidemic intelligence, national weekly data</td>\n",
       "      <td>13</td>\n",
       "    </tr>\n",
       "    <tr>\n",
       "      <th>10630</th>\n",
       "      <td>Hungary</td>\n",
       "      <td>HUN</td>\n",
       "      <td>Europe</td>\n",
       "      <td>9769526</td>\n",
       "      <td>cases</td>\n",
       "      <td>297</td>\n",
       "      <td>2020-14</td>\n",
       "      <td>5.906121</td>\n",
       "      <td>744</td>\n",
       "      <td>Epidemic intelligence, national weekly data</td>\n",
       "      <td>14</td>\n",
       "    </tr>\n",
       "  </tbody>\n",
       "</table>\n",
       "</div>"
      ],
      "text/plain": [
       "       country country_code continent  population indicator  weekly_count  \\\n",
       "10626  Hungary          HUN    Europe     9769526     cases             8   \n",
       "10627  Hungary          HUN    Europe     9769526     cases            31   \n",
       "10628  Hungary          HUN    Europe     9769526     cases           128   \n",
       "10629  Hungary          HUN    Europe     9769526     cases           280   \n",
       "10630  Hungary          HUN    Europe     9769526     cases           297   \n",
       "\n",
       "      year_week  rate_14_day  cumulative_count  \\\n",
       "10626   2020-10          NaN                 8   \n",
       "10627   2020-11     0.399201                39   \n",
       "10628   2020-12     1.627510               167   \n",
       "10629   2020-13     4.176252               447   \n",
       "10630   2020-14     5.906121               744   \n",
       "\n",
       "                                            source  week  \n",
       "10626  Epidemic intelligence, national weekly data    10  \n",
       "10627  Epidemic intelligence, national weekly data    11  \n",
       "10628  Epidemic intelligence, national weekly data    12  \n",
       "10629  Epidemic intelligence, national weekly data    13  \n",
       "10630  Epidemic intelligence, national weekly data    14  "
      ]
     },
     "execution_count": 51,
     "metadata": {},
     "output_type": "execute_result"
    }
   ],
   "source": [
    "hun.head()"
   ]
  },
  {
   "cell_type": "code",
   "execution_count": 52,
   "metadata": {
    "ExecuteTime": {
     "end_time": "2021-04-07T15:57:43.418632Z",
     "start_time": "2021-04-07T15:57:43.338117Z"
    }
   },
   "outputs": [],
   "source": [
    "fig = px.line(data_frame = hun, x = 'week', y = 'cumulative_count', color = 'indicator')"
   ]
  },
  {
   "cell_type": "code",
   "execution_count": 59,
   "metadata": {
    "ExecuteTime": {
     "end_time": "2021-04-07T16:00:01.883297Z",
     "start_time": "2021-04-07T16:00:01.862746Z"
    }
   },
   "outputs": [
    {
     "ename": "AttributeError",
     "evalue": "module 'plotly' has no attribute 'FigureWidget'",
     "output_type": "error",
     "traceback": [
      "\u001b[0;31m---------------------------------------------------------------------------\u001b[0m",
      "\u001b[0;31mAttributeError\u001b[0m                            Traceback (most recent call last)",
      "\u001b[0;32m<ipython-input-59-62b701f4c0ba>\u001b[0m in \u001b[0;36m<module>\u001b[0;34m\u001b[0m\n\u001b[0;32m----> 1\u001b[0;31m \u001b[0mfig\u001b[0m \u001b[0;34m=\u001b[0m \u001b[0mpl\u001b[0m\u001b[0;34m.\u001b[0m\u001b[0mFigureWidget\u001b[0m\u001b[0;34m(\u001b[0m\u001b[0mfig\u001b[0m\u001b[0;34m)\u001b[0m\u001b[0;34m\u001b[0m\u001b[0;34m\u001b[0m\u001b[0m\n\u001b[0m",
      "\u001b[0;32m/opt/conda/lib/python3.8/site-packages/_plotly_utils/importers.py\u001b[0m in \u001b[0;36m__getattr__\u001b[0;34m(import_name)\u001b[0m\n\u001b[1;32m     37\u001b[0m             \u001b[0;32mreturn\u001b[0m \u001b[0mgetattr\u001b[0m\u001b[0;34m(\u001b[0m\u001b[0mclass_module\u001b[0m\u001b[0;34m,\u001b[0m \u001b[0mclass_name\u001b[0m\u001b[0;34m)\u001b[0m\u001b[0;34m\u001b[0m\u001b[0;34m\u001b[0m\u001b[0m\n\u001b[1;32m     38\u001b[0m \u001b[0;34m\u001b[0m\u001b[0m\n\u001b[0;32m---> 39\u001b[0;31m         raise AttributeError(\n\u001b[0m\u001b[1;32m     40\u001b[0m             \"module {__name__!r} has no attribute {name!r}\".format(\n\u001b[1;32m     41\u001b[0m                 \u001b[0mname\u001b[0m\u001b[0;34m=\u001b[0m\u001b[0mimport_name\u001b[0m\u001b[0;34m,\u001b[0m \u001b[0m__name__\u001b[0m\u001b[0;34m=\u001b[0m\u001b[0mparent_name\u001b[0m\u001b[0;34m\u001b[0m\u001b[0;34m\u001b[0m\u001b[0m\n",
      "\u001b[0;31mAttributeError\u001b[0m: module 'plotly' has no attribute 'FigureWidget'"
     ]
    }
   ],
   "source": [
    "fig = go.FigureWidget(fig)"
   ]
  },
  {
   "cell_type": "code",
   "execution_count": 60,
   "metadata": {
    "ExecuteTime": {
     "end_time": "2021-04-07T16:00:04.934901Z",
     "start_time": "2021-04-07T16:00:04.919628Z"
    },
    "scrolled": false
   },
   "outputs": [
    {
     "ename": "NameError",
     "evalue": "name 'iplot' is not defined",
     "output_type": "error",
     "traceback": [
      "\u001b[0;31m---------------------------------------------------------------------------\u001b[0m",
      "\u001b[0;31mNameError\u001b[0m                                 Traceback (most recent call last)",
      "\u001b[0;32m<ipython-input-60-6f60ac8e7a15>\u001b[0m in \u001b[0;36m<module>\u001b[0;34m\u001b[0m\n\u001b[0;32m----> 1\u001b[0;31m \u001b[0miplot\u001b[0m\u001b[0;34m(\u001b[0m\u001b[0mfig\u001b[0m\u001b[0;34m)\u001b[0m\u001b[0;34m\u001b[0m\u001b[0;34m\u001b[0m\u001b[0m\n\u001b[0m",
      "\u001b[0;31mNameError\u001b[0m: name 'iplot' is not defined"
     ]
    }
   ],
   "source": []
  }
 ],
 "metadata": {
  "kernelspec": {
   "display_name": "Python 3",
   "language": "python",
   "name": "python3"
  },
  "language_info": {
   "codemirror_mode": {
    "name": "ipython",
    "version": 3
   },
   "file_extension": ".py",
   "mimetype": "text/x-python",
   "name": "python",
   "nbconvert_exporter": "python",
   "pygments_lexer": "ipython3",
   "version": "3.8.5"
  },
  "toc": {
   "base_numbering": 1,
   "nav_menu": {},
   "number_sections": false,
   "sideBar": true,
   "skip_h1_title": false,
   "title_cell": "Table of Contents",
   "title_sidebar": "Contents",
   "toc_cell": false,
   "toc_position": {},
   "toc_section_display": true,
   "toc_window_display": false
  }
 },
 "nbformat": 4,
 "nbformat_minor": 4
}
